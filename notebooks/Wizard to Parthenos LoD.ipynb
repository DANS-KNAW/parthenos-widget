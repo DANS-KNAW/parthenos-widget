{
 "cells": [
  {
   "cell_type": "code",
   "execution_count": 72,
   "metadata": {
    "collapsed": false
   },
   "outputs": [],
   "source": [
    "from __future__ import print_function, absolute_import\n",
    "\n",
    "import sys\n",
    "import os\n",
    "#sys.path.append(os.path.abspath(os.path.join(os.path.dirname(__file__), '../')))\n",
    "#from tests.config import MATRIX\n",
    "#from parthenos.core.datatojson import *\n",
    "import uuid\n",
    "import httpretty\n",
    "import requests\n",
    "import pandas as pd\n",
    "import simplejson\n",
    "import json\n",
    "\n",
    "basedir = \"%s/%s\" % (os.getenv(\"HOME\"), \"projects/parthenos-widget\")\n",
    "datadir = \"%s/data\" % basedir\n",
    "cachedir = \"%s/%s\" % (basedir, \"cache\")\n",
    "sys.path.append(basedir)\n",
    "#from tests.config import MATRIX\n",
    "from parthenos.core.datatojson import *\n",
    "from parthenos.settings import *\n",
    "import tables\n",
    "from pandas import HDFStore\n",
    "try:\n",
    "    os.stat(cachedir)\n",
    "except:\n",
    "    os.mkdir(cachedir)"
   ]
  },
  {
   "cell_type": "code",
   "execution_count": 73,
   "metadata": {
    "collapsed": false
   },
   "outputs": [],
   "source": [
    "def datacache(cachedir):\n",
    "    xl = pd.ExcelFile(MATRIX)\n",
    "    for tabname in xl.sheet_names:\n",
    "        if tabname == 'CONTENTS':\n",
    "            df = pd.read_excel(MATRIX, sheetname=tabname, header=None, skiprows=0)\n",
    "        else:\n",
    "            df = pd.read_excel(MATRIX, sheetname=tabname, header=1, skiprows=0)\n",
    "        df.to_hdf(\"%s/%s.h5\" % (cachedir, str(tabname)), 'key', data_columns=True)\n",
    "    return 'done'\n",
    "s = datacache(cachedir)"
   ]
  },
  {
   "cell_type": "code",
   "execution_count": 76,
   "metadata": {
    "collapsed": false
   },
   "outputs": [],
   "source": [
    "def dataloader(topickey):\n",
    "    df = pd.read_hdf(\"%s/%s.h5\" % (cachedir, topickey), 'key')\n",
    "    return df"
   ]
  },
  {
   "cell_type": "code",
   "execution_count": 77,
   "metadata": {
    "collapsed": false
   },
   "outputs": [
    {
     "data": {
      "text/html": [
       "<div>\n",
       "<table border=\"1\" class=\"dataframe\">\n",
       "  <thead>\n",
       "    <tr style=\"text-align: right;\">\n",
       "      <th></th>\n",
       "      <th>name</th>\n",
       "      <th>community</th>\n",
       "    </tr>\n",
       "  </thead>\n",
       "  <tbody>\n",
       "    <tr>\n",
       "      <th>0</th>\n",
       "      <td>ARCHEOLOGY</td>\n",
       "      <td>RESEARCH COMMUNITY</td>\n",
       "    </tr>\n",
       "    <tr>\n",
       "      <th>1</th>\n",
       "      <td>LANGUAGE STUDIES</td>\n",
       "      <td>RESEARCH COMMUNITY</td>\n",
       "    </tr>\n",
       "    <tr>\n",
       "      <th>2</th>\n",
       "      <td>SOCIAL SCIENCE</td>\n",
       "      <td>RESEARCH COMMUNITY</td>\n",
       "    </tr>\n",
       "    <tr>\n",
       "      <th>3</th>\n",
       "      <td>HISTORY</td>\n",
       "      <td>RESEARCH COMMUNITY</td>\n",
       "    </tr>\n",
       "    <tr>\n",
       "      <th>4</th>\n",
       "      <td>DIGITAL REPOSITORY</td>\n",
       "      <td>NaN</td>\n",
       "    </tr>\n",
       "    <tr>\n",
       "      <th>5</th>\n",
       "      <td>CULTURAL HERITAGE INSTITUTION</td>\n",
       "      <td>NaN</td>\n",
       "    </tr>\n",
       "  </tbody>\n",
       "</table>\n",
       "</div>"
      ],
      "text/plain": [
       "                            name           community\n",
       "0                     ARCHEOLOGY  RESEARCH COMMUNITY\n",
       "1               LANGUAGE STUDIES  RESEARCH COMMUNITY\n",
       "2                 SOCIAL SCIENCE  RESEARCH COMMUNITY\n",
       "3                        HISTORY  RESEARCH COMMUNITY\n",
       "4             DIGITAL REPOSITORY                 NaN\n",
       "5  CULTURAL HERITAGE INSTITUTION                 NaN"
      ]
     },
     "execution_count": 77,
     "metadata": {},
     "output_type": "execute_result"
    }
   ],
   "source": [
    "#content = contents(0)\n",
    "def read_contents(tabname):\n",
    "    wizardkey = 'Navigation'\n",
    "    df = dataloader(tabname)\n",
    "    df = df[df[2] == wizardkey]\n",
    "    df.columns = ('name', 'community', 'type')\n",
    "    df = df.drop('type', 1)\n",
    "    return df\n",
    "\n",
    "topickey = \"CONTENTS\"\n",
    "read_contents(\"CONTENTS\")"
   ]
  },
  {
   "cell_type": "code",
   "execution_count": null,
   "metadata": {
    "collapsed": false
   },
   "outputs": [],
   "source": [
    "topickey = \"SOCIAL SCIENCE\"\n",
    "df = dataloader(topickey)\n",
    "df"
   ]
  },
  {
   "cell_type": "code",
   "execution_count": null,
   "metadata": {
    "collapsed": false
   },
   "outputs": [],
   "source": [
    "(df, fairtest) = fair(4)\n",
    "df"
   ]
  }
 ],
 "metadata": {
  "kernelspec": {
   "display_name": "Python 2",
   "language": "python",
   "name": "python2"
  },
  "language_info": {
   "codemirror_mode": {
    "name": "ipython",
    "version": 2
   },
   "file_extension": ".py",
   "mimetype": "text/x-python",
   "name": "python",
   "nbconvert_exporter": "python",
   "pygments_lexer": "ipython2",
   "version": "2.7.12"
  }
 },
 "nbformat": 4,
 "nbformat_minor": 0
}
