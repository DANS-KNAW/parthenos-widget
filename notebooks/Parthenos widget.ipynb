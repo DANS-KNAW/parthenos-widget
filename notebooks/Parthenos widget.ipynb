{
 "cells": [
  {
   "cell_type": "code",
   "execution_count": 37,
   "metadata": {
    "collapsed": false
   },
   "outputs": [
    {
     "data": {
      "text/plain": [
       "u'ARCHAEOLOGY'"
      ]
     },
     "execution_count": 37,
     "metadata": {},
     "output_type": "execute_result"
    }
   ],
   "source": [
    "import re\n",
    "import numpy as np\n",
    "import pandas as pd\n",
    "import json\n",
    "\n",
    "matrix = \"matrix20170512.xlsx\"\n",
    "path = \"/Users/vyacheslavtykhonov/projects/parthenos/%s\" % matrix\n",
    "path = \"/Users/vyacheslavtykhonov/projects/parthenos-widget/data/matrix20170515.xlsx\"\n",
    "xl = pd.ExcelFile(path)\n",
    "xl.sheet_names[1]\n"
   ]
  },
  {
   "cell_type": "code",
   "execution_count": 38,
   "metadata": {
    "collapsed": false
   },
   "outputs": [
    {
     "name": "stdout",
     "output_type": "stream",
     "text": [
      "Int64Index([0, 1], dtype='int64')\n"
     ]
    },
    {
     "data": {
      "text/plain": [
       "[u'BEST PRACTICE',\n",
       " u'FINDABLE \\n(persistent identifier; rich and indexed metadata, citation) ',\n",
       " u'ACCESSIBLE \\n(data and metadata are retrievable via an exchange protocol; protocol is open and free) ',\n",
       " u'INTEROPERABLE \\n(use of (meta)data standards, use of vocabularies, reference to other metadata)',\n",
       " u'REUSABLE \\n(provenance; usage licence; standards)',\n",
       " u'FIELD (among Language Studies)',\n",
       " u'SUGGESTED METADATA FORMAT',\n",
       " u'PREFERRED DATA FORMAT',\n",
       " u'LEGAL FRAMEWORK',\n",
       " u'OPEN ACCESS POLICIES',\n",
       " u'PRIVACY AND SENSITIVE DATA',\n",
       " u'DATA CREATION',\n",
       " u'METADATA CREATION',\n",
       " u'NAMING FILE CONVENTION',\n",
       " u'CITATION GUIDELINES',\n",
       " u'RESEARCH ETHICS',\n",
       " u'ACCESSIBILITY',\n",
       " u'LONG TERM PRESERVATION',\n",
       " u'MANTAIN THE QUALITY AND INTEGRITY OF DATA AND DATASETS',\n",
       " u'TRUSTED DIGITAL REPOSITORY',\n",
       " u'ARCHIVAL STORAGE',\n",
       " u'DATA MANAGEMENT ',\n",
       " u'PRESERVATION PLANNING',\n",
       " u'Data Sharing Protocols',\n",
       " u'ASSESSEMNT OF REPOSITORIES',\n",
       " u'UNIQUE AND PERSISTENT IDENTIFIERS',\n",
       " u'SELECTION OF RESEARCH DATA',\n",
       " u'THESAURI, GLOSSARIES, AUTHORITY FILES',\n",
       " u'OPEN LINKED DATA']"
      ]
     },
     "execution_count": 38,
     "metadata": {},
     "output_type": "execute_result"
    }
   ],
   "source": [
    "def contents(path, tabname):\n",
    "    df = pd.read_excel(path, sheetname=tabname, header=None, skiprows=0)\n",
    "    data = df #.transpose()\n",
    "    content = {}\n",
    "    cindex = {}\n",
    "    for index in data.index:\n",
    "        row = data.ix[index]\n",
    "        if str(row[1]) != 'nan':\n",
    "            content[row[0]] = row[1]\n",
    "            cindex[row[1]] = row[1]\n",
    "        else:\n",
    "            content[row[0]] = ''\n",
    "            cindex[row[0]] = row[0]\n",
    "    data = {}\n",
    "    mindex = []\n",
    "    for x in cindex:\n",
    "        mindex.append(x)\n",
    "    data['index'] = mindex\n",
    "    data['contents'] = content\n",
    "    return (df, data)\n",
    "\n",
    "(df, dataset) = contents(path, xl.sheet_names[0])\n",
    "data = json.dumps(dataset, ensure_ascii=False, sort_keys=True, indent=4)\n",
    "print df.columns\n",
    "def read_topics(path, tabname):\n",
    "    forbidden = ['POLICY', 'POLICY LINK', 'COUNTRY', 'ORGANISATION', 'ORGANISATION LINK', 'PROJECT']\n",
    "    df = pd.read_excel(path, sheetname=tabname, skiprows=1)\n",
    "    columns = []\n",
    "    for colname in df.columns:\n",
    "        if colname not in forbidden:\n",
    "            columns.append(colname)\n",
    "    return columns\n",
    "\n",
    "df = read_topics(path, xl.sheet_names[3])\n",
    "df"
   ]
  },
  {
   "cell_type": "code",
   "execution_count": null,
   "metadata": {
    "collapsed": true
   },
   "outputs": [],
   "source": []
  },
  {
   "cell_type": "code",
   "execution_count": 39,
   "metadata": {
    "collapsed": false
   },
   "outputs": [
    {
     "name": "stdout",
     "output_type": "stream",
     "text": [
      "United States\n",
      "United States\n",
      "Europe\n",
      "United Kingdom\n",
      "Romania\n",
      "Europe\n",
      "Europe\n",
      "Europe\n",
      "Europe\n",
      "nan\n",
      "Austria\n",
      "United States\n",
      "Netherlands\n",
      "Germany\n",
      "Germany\n",
      "Netherlands\n",
      "Netherlands\n",
      "Netherlands\n",
      "Netherlands\n",
      "Netherlands\n",
      "Netherlands\n",
      "Germany, Europe\n",
      "Netherlands\n",
      "Europe\n",
      "Europe\n",
      "Europe\n",
      "Germany\n",
      "Unitede States\n",
      "France\n",
      "Hungary\n",
      "Netherlands\n",
      "United Kingdom\n",
      "United States\n",
      "Canada\n"
     ]
    }
   ],
   "source": [
    "majorkey = \"POLICY\"\n",
    "location = \"COUNTRY\"\n",
    "df = pd.read_excel(path, sheetname=\"ARCHAEOLOGY\", header = 1)\n",
    "d = df[df[majorkey] == 'ADS - Archaeology Data Service']\n",
    "data = d.transpose()\n",
    "df = df[pd.notnull(df[majorkey])]\n",
    "#df.index = df[majorkey]\n",
    "major = {}\n",
    "for polname in df[majorkey]:\n",
    "    polline = df[df[majorkey] == polname][location]\n",
    "    print polline.iloc[0]\n",
    "#    major[polname] = str(polline[location])\n",
    "#    print df[df[majorkey] == polname][location]\n",
    "#major"
   ]
  },
  {
   "cell_type": "code",
   "execution_count": 40,
   "metadata": {
    "collapsed": false
   },
   "outputs": [],
   "source": [
    "#df.ix[1][0]\n",
    "#for x in df.index:\n",
    "#    print x"
   ]
  },
  {
   "cell_type": "code",
   "execution_count": 41,
   "metadata": {
    "collapsed": false
   },
   "outputs": [
    {
     "data": {
      "text/plain": [
       "[u'CONTENTS',\n",
       " u'ARCHAEOLOGY',\n",
       " u'DIGITAL REPOSITORY',\n",
       " u'LANGUAGE STUDIES',\n",
       " u'SOCIAL SCIENCE',\n",
       " u'HISTORY',\n",
       " u'CULTURAL HERITAGE INSTITUTION']"
      ]
     },
     "execution_count": 41,
     "metadata": {},
     "output_type": "execute_result"
    }
   ],
   "source": [
    "xl = pd.ExcelFile(path)\n",
    "\n",
    "xl.sheet_names"
   ]
  },
  {
   "cell_type": "code",
   "execution_count": 42,
   "metadata": {
    "collapsed": false,
    "scrolled": false
   },
   "outputs": [
    {
     "data": {
      "text/html": [
       "<div>\n",
       "<table border=\"1\" class=\"dataframe\">\n",
       "  <thead>\n",
       "    <tr style=\"text-align: right;\">\n",
       "      <th></th>\n",
       "      <th>POLICY</th>\n",
       "      <th>POLICY LINK</th>\n",
       "      <th>COUNTRY</th>\n",
       "      <th>ORGANISATION</th>\n",
       "      <th>ORGANISATION LINK</th>\n",
       "      <th>PROJECT</th>\n",
       "      <th>FINDABLE \n",
       "Metadata, Documentation, Identifiers for Citation</th>\n",
       "      <th>ACCESSIBLE \n",
       "(data and metadata are retrievable via an exchange protocol; protocol is open and free) - Licence</th>\n",
       "      <th>INTEROPERABLE \n",
       "(use of (meta)data standards, use of vocabularies, reference to other metadata)</th>\n",
       "      <th>REUSABLE \n",
       "(provenance; usage licence; standards)</th>\n",
       "      <th>...</th>\n",
       "      <th>TRUSTED DIGITAL REPOSITORY</th>\n",
       "      <th>ARCHIVAL STORAGE</th>\n",
       "      <th>DATA MANAGEMENT</th>\n",
       "      <th>PRESERVATION PLANNING</th>\n",
       "      <th>ASSESSMENT OF REPOSITORY</th>\n",
       "      <th>SUSTAINABILITY AND FUNDING</th>\n",
       "      <th>UNIQUE AND PERSISTENT IDENTIFIER</th>\n",
       "      <th>SELECTION OF RESEARCH DATA</th>\n",
       "      <th>THESAURI, GLOSSARIES, AUTHORITY FILES</th>\n",
       "      <th>LINKED OPEN DATA</th>\n",
       "    </tr>\n",
       "  </thead>\n",
       "  <tbody>\n",
       "    <tr>\n",
       "      <th>3</th>\n",
       "      <td>NaN</td>\n",
       "      <td>NaN</td>\n",
       "      <td>United Kingdom</td>\n",
       "      <td>ADS - Archaeology Data Service</td>\n",
       "      <td>http://archaeologydataservice.ac.uk/</td>\n",
       "      <td>ARIADNE</td>\n",
       "      <td>X</td>\n",
       "      <td>X</td>\n",
       "      <td>NaN</td>\n",
       "      <td>X</td>\n",
       "      <td>...</td>\n",
       "      <td>NaN</td>\n",
       "      <td>X</td>\n",
       "      <td>NaN</td>\n",
       "      <td>NaN</td>\n",
       "      <td>NaN</td>\n",
       "      <td>NaN</td>\n",
       "      <td>NaN</td>\n",
       "      <td>NaN</td>\n",
       "      <td>NaN</td>\n",
       "      <td>NaN</td>\n",
       "    </tr>\n",
       "    <tr>\n",
       "      <th>35</th>\n",
       "      <td>NaN</td>\n",
       "      <td>NaN</td>\n",
       "      <td>Italy</td>\n",
       "      <td>MIBACT-ICCD (Central Institute for Cataloguing...</td>\n",
       "      <td>http://www.internetculturale.it/opencms/opencm...</td>\n",
       "      <td>CULTURAITALIA, EUROPEANA, SITAR, ATHENA (finis...</td>\n",
       "      <td>X</td>\n",
       "      <td>X</td>\n",
       "      <td>X</td>\n",
       "      <td>X</td>\n",
       "      <td>...</td>\n",
       "      <td>NaN</td>\n",
       "      <td>NaN</td>\n",
       "      <td>NaN</td>\n",
       "      <td>NaN</td>\n",
       "      <td>NaN</td>\n",
       "      <td>NaN</td>\n",
       "      <td>X</td>\n",
       "      <td>X</td>\n",
       "      <td>X</td>\n",
       "      <td>X</td>\n",
       "    </tr>\n",
       "  </tbody>\n",
       "</table>\n",
       "<p>2 rows × 37 columns</p>\n",
       "</div>"
      ],
      "text/plain": [
       "   POLICY POLICY LINK         COUNTRY  \\\n",
       "3     NaN         NaN  United Kingdom   \n",
       "35    NaN         NaN           Italy   \n",
       "\n",
       "                                         ORGANISATION  \\\n",
       "3                      ADS - Archaeology Data Service   \n",
       "35  MIBACT-ICCD (Central Institute for Cataloguing...   \n",
       "\n",
       "                                    ORGANISATION LINK  \\\n",
       "3                http://archaeologydataservice.ac.uk/   \n",
       "35  http://www.internetculturale.it/opencms/opencm...   \n",
       "\n",
       "                                              PROJECT  \\\n",
       "3                                             ARIADNE   \n",
       "35  CULTURAITALIA, EUROPEANA, SITAR, ATHENA (finis...   \n",
       "\n",
       "   FINDABLE \\nMetadata, Documentation, Identifiers for Citation  \\\n",
       "3                                                   X             \n",
       "35                                                  X             \n",
       "\n",
       "   ACCESSIBLE \\n(data and metadata are retrievable via an exchange protocol; protocol is open and free) - Licence   \\\n",
       "3                                                   X                                                                \n",
       "35                                                  X                                                                \n",
       "\n",
       "   INTEROPERABLE \\n(use of (meta)data standards, use of vocabularies, reference to other metadata)   \\\n",
       "3                                                 NaN                                                 \n",
       "35                                                  X                                                 \n",
       "\n",
       "   REUSABLE \\n(provenance; usage licence; standards)       ...         \\\n",
       "3                                                  X       ...          \n",
       "35                                                 X       ...          \n",
       "\n",
       "   TRUSTED DIGITAL REPOSITORY ARCHIVAL STORAGE DATA MANAGEMENT  \\\n",
       "3                         NaN                X             NaN   \n",
       "35                        NaN              NaN             NaN   \n",
       "\n",
       "   PRESERVATION PLANNING ASSESSMENT OF REPOSITORY SUSTAINABILITY AND FUNDING  \\\n",
       "3                    NaN                      NaN                        NaN   \n",
       "35                   NaN                      NaN                        NaN   \n",
       "\n",
       "   UNIQUE AND PERSISTENT IDENTIFIER SELECTION OF RESEARCH DATA  \\\n",
       "3                               NaN                        NaN   \n",
       "35                                X                          X   \n",
       "\n",
       "   THESAURI, GLOSSARIES, AUTHORITY FILES LINKED OPEN DATA  \n",
       "3                                    NaN              NaN  \n",
       "35                                     X                X  \n",
       "\n",
       "[2 rows x 37 columns]"
      ]
     },
     "execution_count": 42,
     "metadata": {},
     "output_type": "execute_result"
    }
   ],
   "source": [
    "def fair(tabname):\n",
    "    df = pd.read_excel(path, sheetname=tabname, header = 1)\n",
    "    fairfilter = {}\n",
    "    for column in df.columns:\n",
    "        if re.search(\"FINDABLE\", column, re.DOTALL): #, re.MULTILINE):\n",
    "            fairfilter['FINDABLE'] = column\n",
    "        if re.search(\"ACCESSIBLE\", column, re.DOTALL): #, re.MULTILINE):\n",
    "            fairfilter['ACCESSIBLE'] = column\n",
    "        if re.search(\"INTEROPERABLE\", column, re.DOTALL): #, re.MULTILINE):\n",
    "            fairfilter['INTEROPERABLE'] = column\n",
    "        if re.search(\"REUSABLE\", column, re.DOTALL): #, re.MULTILINE):\n",
    "            fairfilter['REUSABLE'] = column\n",
    "    return (df, fairfilter)\n",
    "\n",
    "def fairfilter(df, command):\n",
    "    fairmatrix = {}\n",
    "    fairmatrix['f'] = df[filters['FINDABLE']]=='X'\n",
    "    fairmatrix['a'] = df[filters['ACCESSIBLE']]=='X'\n",
    "    fairmatrix['i'] = df[filters['INTEROPERABLE']]=='X'\n",
    "    fairmatrix['r'] = df[filters['REUSABLE']]=='X'\n",
    "\n",
    "    resultmatrix = pd.DataFrame()\n",
    "    for acr in command:\n",
    "        if resultmatrix.empty:   \n",
    "            resultmatrix = fairmatrix[acr]\n",
    "        else:\n",
    "            resultmatrix = resultmatrix & fairmatrix[acr]\n",
    "            \n",
    "    return df[resultmatrix]\n",
    "        \n",
    "sheetname=\"ARCHAEOLOGY\"\n",
    "(df, filters) = fair(sheetname)\n",
    "x = fairfilter(df, 'fr')\n",
    "\n",
    "f = df[filters['FINDABLE']]=='X'\n",
    "a = df[filters['ACCESSIBLE']]=='X'\n",
    "i = df[filters['INTEROPERABLE']]=='X'\n",
    "r = df[filters['REUSABLE']]=='X'\n",
    "#x = f & r\n",
    "#x = df[f & a & i & r]\n",
    "#x.transpose()\n",
    "#x = f & a & i & r\n",
    "#for thiscol in x.columns:\n",
    "#    print thiscol + \"\\n\"\n",
    "x= df[f & a]\n",
    "x"
   ]
  },
  {
   "cell_type": "code",
   "execution_count": 49,
   "metadata": {
    "collapsed": false
   },
   "outputs": [],
   "source": [
    "matrix = []\n",
    "matrix.append(df[filters['FINDABLE']]=='X')\n",
    "#matrix.append(df[filters['ACCESSIBLE']]=='X')\n",
    "#matrix.append(df[filters['REUSABLE']]=='X')\n",
    "fmatrix = matrix[0]\n",
    "for i in range(1, len(matrix)):\n",
    "    print i\n",
    "    fmatrix = (fmatrix) & (matrix[i])\n",
    "#x = df[matrix[0] & matrix[1]]\n",
    "y = df[fmatrix]\n"
   ]
  },
  {
   "cell_type": "code",
   "execution_count": 84,
   "metadata": {
    "collapsed": false
   },
   "outputs": [
    {
     "name": "stdout",
     "output_type": "stream",
     "text": [
      "Aerial Documentation\n"
     ]
    },
    {
     "data": {
      "text/plain": [
       "{'Aerial Documentation': [{u'Aerial Documentation': u'X',\n",
       "   u'COUNTRY': u'Germany',\n",
       "   u'POLICY': nan,\n",
       "   u'POLICY LINK': nan},\n",
       "  {u'Aerial Documentation': u'X',\n",
       "   u'COUNTRY': u'Ireland',\n",
       "   u'POLICY': nan,\n",
       "   u'POLICY LINK': nan}]}"
      ]
     },
     "execution_count": 84,
     "metadata": {},
     "output_type": "execute_result"
    }
   ],
   "source": [
    "selection = ['POLICY','COUNTRY','POLICY LINK']\n",
    "#selected = [filters['FINDABLE']]\n",
    "#selection.append(filters['FINDABLE'])\n",
    "selected = [\"Aerial Documentation\"]\n",
    "selection.append(\"Aerial Documentation\")\n",
    "ymatrix = y[selection]\n",
    "result = {}\n",
    "if selected:\n",
    "    for col in selected:\n",
    "        print col\n",
    "        rowarray = []\n",
    "        for row in ymatrix.index:\n",
    "            rowsubset = ymatrix.ix[row]\n",
    "            rowresult = {}\n",
    "            for col in selected:\n",
    "                if rowsubset[col] == 'X':\n",
    "                    d = rowsubset.to_dict() #orient='records')\n",
    "                    rowarray.append(d)\n",
    "        result[col] = rowarray\n",
    "result"
   ]
  },
  {
   "cell_type": "code",
   "execution_count": 44,
   "metadata": {
    "collapsed": false
   },
   "outputs": [],
   "source": [
    "def frametokeys(df):\n",
    "    allkeys = {}\n",
    "    for item in df.columns:\n",
    "        allkeys[item] = ''\n",
    "    return allkeys"
   ]
  },
  {
   "cell_type": "code",
   "execution_count": 45,
   "metadata": {
    "collapsed": false,
    "scrolled": true
   },
   "outputs": [],
   "source": [
    "def frametovalues(df):\n",
    "    allvalues = {}\n",
    "    skip = 0\n",
    "    for thisindex in df.index:\n",
    "        line = df.ix[thisindex]\n",
    "        for col in line:\n",
    "            try:\n",
    "                allvalues[str(col)] = ''\n",
    "            except:\n",
    "                skip = 1\n",
    "                \n",
    "        finalvalues = []\n",
    "        for item in sorted(allvalues):\n",
    "            finalvalues.append(item)\n",
    "    return finalvalues"
   ]
  },
  {
   "cell_type": "code",
   "execution_count": 46,
   "metadata": {
    "collapsed": false
   },
   "outputs": [
    {
     "data": {
      "text/plain": [
       "{u'3D documentation': '',\n",
       " u'ACCESSIBILITY': '',\n",
       " u'ACCESSIBLE \\n(data and metadata are retrievable via an exchange protocol; protocol is open and free) - Licence ': '',\n",
       " u'ARCHIVAL STORAGE': '',\n",
       " u'ASSESSMENT OF REPOSITORY': '',\n",
       " u'Aerial Documentation': '',\n",
       " u'COUNTRY': '',\n",
       " u'DATA CREATION': '',\n",
       " u'DATA MANAGEMENT': '',\n",
       " u'Dendrochronology standards': '',\n",
       " u'FINDABLE \\nMetadata, Documentation, Identifiers for Citation': '',\n",
       " u'Field Documentation': '',\n",
       " u'INTEROPERABLE \\n(use of (meta)data standards, use of vocabularies, reference to other metadata) ': '',\n",
       " u'LEGAL FRAMEWORK': '',\n",
       " u'LINKED OPEN DATA': '',\n",
       " u'LONG TERM PRESERVATION': '',\n",
       " u'Lidar - GPS - Spatial Documentation': '',\n",
       " u'MANTAIN THE INTEGRITY OF DATA AND DATASETS': '',\n",
       " u'METADATA CREATION': '',\n",
       " u'NAMING FILE CONVENTION': '',\n",
       " u'ORGANISATION': '',\n",
       " u'ORGANISATION LINK': '',\n",
       " u'POLICY': '',\n",
       " u'POLICY LINK': '',\n",
       " u'PREFERRED DATA FORMATS': '',\n",
       " u'PRESERVATION PLANNING': '',\n",
       " u'PRIVACY, SENSITIVE DATA ': '',\n",
       " u'PROJECT': '',\n",
       " u'Project  Documentation': '',\n",
       " u'RESEARCH ETHICS': '',\n",
       " u'REUSABLE \\n(provenance; usage licence; standards)': '',\n",
       " u'SELECTION OF RESEARCH DATA': '',\n",
       " u'SUGGESTED METADATA FORMATS': '',\n",
       " u'SUSTAINABILITY AND FUNDING': '',\n",
       " u'THESAURI, GLOSSARIES, AUTHORITY FILES': '',\n",
       " u'TRUSTED DIGITAL REPOSITORY': '',\n",
       " u'UNIQUE AND PERSISTENT IDENTIFIER': ''}"
      ]
     },
     "execution_count": 46,
     "metadata": {},
     "output_type": "execute_result"
    }
   ],
   "source": [
    "allkeys = frametokeys(df)\n",
    "allkeys"
   ]
  },
  {
   "cell_type": "code",
   "execution_count": 47,
   "metadata": {
    "collapsed": false
   },
   "outputs": [
    {
     "data": {
      "text/plain": [
       "['\\nhttps://dans.knaw.nl/en\\n',\n",
       " ' ',\n",
       " ' The Alexandria Archive Institute',\n",
       " '3D ICONS',\n",
       " '3D ICONS; ArcheoLandscapes',\n",
       " '3D Icons Guidelines',\n",
       " 'A Framework for Transforming Archaeological Databases to Linked Ontological Datasets. In Computer Applications and Quantitative Methods in Archaeology',\n",
       " 'A standard and guide to best practice for archeological archiving in Europe',\n",
       " 'ADS - Archaeology Data Service',\n",
       " 'AHEROVEST',\n",
       " 'ARCHES',\n",
       " 'ARCHES; EAC',\n",
       " 'ARHEO - Arheovest Association Timisoara',\n",
       " 'ARIADNE',\n",
       " 'ARIADNE, IANUS, DARIAH.DE; Archeolandscapes',\n",
       " 'ARIADNE; 3D Icons',\n",
       " 'ARIADNE; ArcheoLandscape; ',\n",
       " 'ARKAS archaeological data standardisation guidelines',\n",
       " 'ARUP-CAS Institute of Archaeology of the Academy of Sciences',\n",
       " 'ATHENA ',\n",
       " 'Archaeological Documentation',\n",
       " 'Archaeology Data Service/ Digital Antiquity. Guide to Good Practice. ',\n",
       " 'Art & Architecture Thesaurus - AAT ',\n",
       " 'Austria',\n",
       " 'BUNDESDENKTMALAMT',\n",
       " 'Book Chapter with examples from the ADS archological data Service',\n",
       " 'Bulgaria',\n",
       " 'CC0 Common Foundation',\n",
       " 'CCO Cataloging Cultural Objects (CC0 Toolkit)',\n",
       " 'CULTURAITALIA, EUROPEANA, SITAR, ATHENA (finished in 2011), DCH-RP, MAPPA',\n",
       " 'CYI - STARC',\n",
       " 'Canada',\n",
       " 'Centraal College van Deskundigen (CCvD) Archeologie, ondergebracht bij de SIKB te Gouda',\n",
       " 'Cyprus',\n",
       " 'DAI (Deutsche Archeologische Institut) ',\n",
       " 'DAI (German Archeological Institute)',\n",
       " 'DANS Data Management Plan for managing, documenting and sharing data',\n",
       " 'DANS General Conditions of Use ',\n",
       " 'DANS Preferred Formats',\n",
       " 'DANS Preservation Policy',\n",
       " 'DANS Research Data Selection guidelines',\n",
       " 'DANS-KNAW',\n",
       " 'DARIAH-DE',\n",
       " 'DCH-RP - Digital Cultural Heritage Roadmap for Preservation - Open Science Infrastructure for Digital Cultural Heritage in 2020',\n",
       " 'Dutch Ministry for Culture and Education',\n",
       " 'ECLAP/ chapter academic publication',\n",
       " 'Europe',\n",
       " 'European Project',\n",
       " 'European Project (it created a directory of tools for the processing and preservation of data from CHI) + developed a Roadmap for presevrvation: http://www.dch-rp.eu/getFile.php?id=380',\n",
       " 'France',\n",
       " 'German Archaeological Institute',\n",
       " 'Germany',\n",
       " 'Germany, Europe',\n",
       " 'Getty',\n",
       " 'Guidelines for Web-based data publication in archaeology. A working document to inform archaeologists about sharing data, from the field to the Web.',\n",
       " 'Guidelines for acheological Mesurements ',\n",
       " 'Guidelines for geographic information',\n",
       " 'Hungary',\n",
       " 'INRAP (French National Institute for Preventive Archeological Research)',\n",
       " 'IT Empfehlungen - Dateiformate, Forschungsmethoden, Projektphasen',\n",
       " 'Ireland',\n",
       " 'Italy',\n",
       " 'KNA Kwaliteitsnorm Nederlandse Archeologie',\n",
       " 'Library of Congress',\n",
       " 'MIBACT-ICCD (Central Institute for Cataloguing and Documentation)',\n",
       " 'Mapping Methods Metadata for Research Data',\n",
       " 'Metadata for Research data: current practices and trends',\n",
       " 'NAIM-BAS',\n",
       " 'NWO Data Contracts',\n",
       " 'Netherlands',\n",
       " 'PACTOLS Thesauri ',\n",
       " 'Quality management of 3D Cultural Heritage replicas with CIDOC CRM',\n",
       " 'RECODE (2015): Policy guidelines for open access and data dissemination and preservation',\n",
       " 'Referentienetwerk erfgoed - Erfgoedthesaurus (Reference Network heritage - Heritage Thesaurus)',\n",
       " 'Romania',\n",
       " 'Romanian Archaeologists Conduct Code',\n",
       " 'Slovenia',\n",
       " 'Specialist Reccomendation for data and Metadata',\n",
       " 'Sustainability of Digital Formats. Planning for Library of Congress Collections',\n",
       " 'THE DISCOVERY PROGRAM',\n",
       " 'TRIDAS',\n",
       " 'TRIDAS project',\n",
       " 'The Standard and Guide to Best Practice in Archaeological Archiving in Europe',\n",
       " 'United Kingdom',\n",
       " 'United States',\n",
       " 'Unitede States',\n",
       " 'X',\n",
       " 'X (Standards for geographic information)',\n",
       " 'X (especially for 3D documentation) ',\n",
       " 'X (provenance in particular: the paper deals with the problem of validation of digital heritage)',\n",
       " 'X (unimarc standard)',\n",
       " 'http://104.197.134.73/wp-content/uploads/2011/06/Guidelines_Jan2011.pdf',\n",
       " 'http://3dicons-project.eu/eng/Guidelines-Case-Studies',\n",
       " 'http://archaeologydataservice.ac.uk/',\n",
       " 'http://archaeologydataservice.ac.uk/arches/',\n",
       " 'http://archaeologydataservice.ac.uk/arches/attach/The%20Standard%20and%20Guide%20to%20Best%20Practice%20in%20Archaeological%20Archiving%20in%20Europe/ARCHES_V1_GB.pdf',\n",
       " 'http://archwort.dainst.org/',\n",
       " 'http://arheovest.com/',\n",
       " 'http://cco.vrafoundation.org/index.php/toolkit/',\n",
       " 'http://ceur-ws.org/Vol-1117/paper6.pdf',\n",
       " 'http://dcpapers.dublincore.org/pubs/article/viewFile/3714/1937-',\n",
       " 'http://frantiq.mom.fr/fr/thesaurus',\n",
       " 'http://guides.archaeologydataservice.ac.uk/g2gp/',\n",
       " 'http://iza.zrc-sazu.si/En/Arkas.html',\n",
       " 'http://naim.bg/en/content/category/100/32/',\n",
       " 'http://public.cyi.ac.cy/starcRepo/',\n",
       " 'http://recodeproject.eu/wp-content/uploads/2015/01/recode_guideline_en_web_version_full_FINAL.pdf',\n",
       " 'http://www.arup.cas.cz/?lang=en',\n",
       " 'http://www.athenaeurope.org/getFile.php?id=787',\n",
       " 'http://www.bda.at/',\n",
       " 'http://www.bundesdenkmalamt.at/documents/621701608.pdf',\n",
       " 'http://www.cultura.ro/uploads/files/CodDeontologicArheologi.pdf',\n",
       " 'http://www.dainst.org/dai/meldungen',\n",
       " 'http://www.dch-rp.eu',\n",
       " 'http://www.digitalpreservation.gov/',\n",
       " 'http://www.digitalpreservation.gov/formats/index.shtml',\n",
       " 'http://www.discoveryprogramme.ie/',\n",
       " 'http://www.erfgoedthesaurus.nl/',\n",
       " 'http://www.getty.edu/research/tools/vocabularies/aat/about.html',\n",
       " 'http://www.ianus-fdz.de/',\n",
       " 'http://www.ianus-fdz.de/it-empfehlungen/',\n",
       " 'http://www.ijdc.net/index.php/ijdc/article/view/10.1.82/382',\n",
       " 'http://www.inrap.fr/',\n",
       " 'http://www.internetculturale.it/opencms/opencms/it/; http://www.culturaitalia.it/',\n",
       " 'http://www.mnm-nok.gov.hu/',\n",
       " 'http://www.mnm-nok.gov.hu/wp-content/uploads/2013/01/b-ERD-szakmai-%C3%BAtmutat%C3%B31.pdf',\n",
       " 'http://www.nwo.nl/en',\n",
       " 'http://www.sikb.nl/archeologie/ccvd-archeologie',\n",
       " 'http://www.sikb.nl/doc/KNA33/defitief/0.%20Voorblad%20KNA%20versie%203.3.pdf',\n",
       " 'http://www.springer.com/us/book/9783642400490',\n",
       " 'http://www.tracingnetworks.ac.uk/publications/CAA2010/paper.pdf',\n",
       " 'http://www.tridas.org/',\n",
       " 'https://dans.knaw.nl/en',\n",
       " 'https://dans.knaw.nl/en/about/organisation-and-policy/legal-information/DANSGeneralconditionsofuseUKDEF.pdf',\n",
       " 'https://dans.knaw.nl/en/deposit/information-about-depositing-data/DANSdatamanagementplanUK.pdf',\n",
       " 'https://dans.knaw.nl/en/deposit/information-about-depositing-data/DANSpreferredformatsUK.pdf',\n",
       " 'https://dans.knaw.nl/en/deposit/information-about-depositing-data/DANSpreservationpolicyUK.pdf',\n",
       " 'https://dans.knaw.nl/nl/over/organisatie-beleid/publicaties/DANSselectionofresearchdata.pdf',\n",
       " 'https://goo.gl/ewL2rL',\n",
       " 'https://wiki.de.dariah.eu/pages/viewpage.action?pageId=20058160',\n",
       " 'iDAI Thesauri',\n",
       " 'idai.vocab',\n",
       " 'nan',\n",
       " 'network FRANTIQ']"
      ]
     },
     "execution_count": 47,
     "metadata": {},
     "output_type": "execute_result"
    }
   ],
   "source": [
    "allvalues = frametovalues(df)\n",
    "allvalues"
   ]
  }
 ],
 "metadata": {
  "kernelspec": {
   "display_name": "Python 2",
   "language": "python",
   "name": "python2"
  },
  "language_info": {
   "codemirror_mode": {
    "name": "ipython",
    "version": 2
   },
   "file_extension": ".py",
   "mimetype": "text/x-python",
   "name": "python",
   "nbconvert_exporter": "python",
   "pygments_lexer": "ipython2",
   "version": "2.7.12"
  }
 },
 "nbformat": 4,
 "nbformat_minor": 0
}
